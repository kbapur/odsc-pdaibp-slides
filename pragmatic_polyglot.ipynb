{
 "cells": [
  {
   "cell_type": "markdown",
   "metadata": {},
   "source": [
    "## sqlite"
   ]
  },
  {
   "cell_type": "code",
   "execution_count": 1,
   "metadata": {
    "collapsed": true
   },
   "outputs": [],
   "source": [
    "import sqlite3\n",
    "dbfilename = \"/opt/data/finefoods.db\"\n",
    "dbcon = sqlite3.connect(dbfilename)"
   ]
  },
  {
   "cell_type": "code",
   "execution_count": 2,
   "metadata": {
    "collapsed": false
   },
   "outputs": [
    {
     "data": {
      "text/plain": [
       "<sqlite3.Cursor at 0x7ff65143b7a0>"
      ]
     },
     "execution_count": 2,
     "metadata": {},
     "output_type": "execute_result"
    }
   ],
   "source": [
    "cursor = dbcon.cursor()\n",
    "sql = \"\"\"\n",
    "SELECT reviewhelpful, count(*)\n",
    "FROM review\n",
    "WHERE reviewscore < 2\n",
    "GROUP BY reviewhelpful\n",
    "\"\"\"\n",
    "cursor.execute(sql)"
   ]
  },
  {
   "cell_type": "code",
   "execution_count": 3,
   "metadata": {
    "collapsed": false
   },
   "outputs": [
    {
     "name": "stdout",
     "output_type": "stream",
     "text": [
      "[('0/0', 12266), ('1/1', 4809), ('0/1', 3701), ('1/2', 2718), ('2/2', 2123)]\n"
     ]
    }
   ],
   "source": [
    "from collections import Counter\n",
    "ct = Counter()\n",
    "for row_n, (score, count) in enumerate(cursor, 1):\n",
    "    ct[score] = count\n",
    "print(ct.most_common(n=5))"
   ]
  },
  {
   "cell_type": "code",
   "execution_count": 4,
   "metadata": {
    "collapsed": false
   },
   "outputs": [
    {
     "name": "stdout",
     "output_type": "stream",
     "text": [
      "[('0/0', 12266), ('1/1', 4809), ('0/1', 3701), ('1/2', 2718), ('2/2', 2123)]\n"
     ]
    }
   ],
   "source": [
    "cursor = dbcon.cursor()\n",
    "sql = \"\"\"\n",
    "SELECT reviewhelpful, count(*) AS ct\n",
    "FROM review\n",
    "WHERE reviewscore < 2\n",
    "GROUP BY reviewhelpful\n",
    "ORDER BY ct DESC\n",
    "\"\"\"\n",
    "cursor.execute(sql)\n",
    "print(cursor.fetchmany(5))"
   ]
  },
  {
   "cell_type": "markdown",
   "metadata": {},
   "source": [
    "## SQLalchemy"
   ]
  },
  {
   "cell_type": "code",
   "execution_count": 5,
   "metadata": {
    "collapsed": true
   },
   "outputs": [],
   "source": [
    "from sqlalchemy.ext.automap import automap_base\n",
    "from sqlalchemy.orm import Session\n",
    "from sqlalchemy import create_engine\n",
    "\n",
    "Base = automap_base()\n",
    "\n",
    "# engine, suppose it has two tables 'user' and 'address' set up\n",
    "engine = create_engine(\"sqlite:////opt/data/finefoods.db\")"
   ]
  },
  {
   "cell_type": "code",
   "execution_count": 6,
   "metadata": {
    "collapsed": false
   },
   "outputs": [],
   "source": [
    "Base.prepare(engine, reflect=True)\n",
    "review = Base.classes.review"
   ]
  },
  {
   "cell_type": "code",
   "execution_count": 7,
   "metadata": {
    "collapsed": false
   },
   "outputs": [
    {
     "data": {
      "text/plain": [
       "[('0/0', 12266), ('1/1', 4809), ('0/1', 3701), ('1/2', 2718), ('2/2', 2123)]"
      ]
     },
     "execution_count": 7,
     "metadata": {},
     "output_type": "execute_result"
    }
   ],
   "source": [
    "session = Session(engine)\n",
    "from sqlalchemy import func # SQL functions\n",
    "\n",
    "query = (session\n",
    "         .query(review.reviewhelpful,\n",
    "                func.count(review.reviewhelpful))\n",
    "         .filter(review.reviewscore < 2)\n",
    "         .group_by(review.reviewhelpful)\n",
    "         .order_by(func.count(review.reviewhelpful).desc()))\n",
    "\n",
    "res = query.all()\n",
    "res[:5]"
   ]
  },
  {
   "cell_type": "code",
   "execution_count": 8,
   "metadata": {
    "collapsed": false
   },
   "outputs": [
    {
     "name": "stdout",
     "output_type": "stream",
     "text": [
      "SELECT review.reviewhelpful, count(review.reviewhelpful) AS count_1 \n",
      "FROM review \n",
      "WHERE review.reviewscore < ? GROUP BY review.reviewhelpful ORDER BY count(review.reviewhelpful) DESC\n"
     ]
    }
   ],
   "source": [
    "from sqlalchemy.dialects import sqlite\n",
    "print(str(query.statement.compile(dialect=sqlite.dialect())))"
   ]
  },
  {
   "cell_type": "markdown",
   "metadata": {},
   "source": [
    "# R's dplyr"
   ]
  },
  {
   "cell_type": "code",
   "execution_count": 9,
   "metadata": {
    "collapsed": false
   },
   "outputs": [
    {
     "name": "stdout",
     "output_type": "stream",
     "text": [
      "Source: sqlite 3.8.6 [/opt/data/finefoods.db]\n",
      "From: <derived table> [?? x 2]\n",
      "Arrange: desc(n) \n",
      "\n",
      "   reviewhelpful     n\n",
      "           (chr) (int)\n",
      "1            0/0 12266\n",
      "2            1/1  4809\n",
      "3            0/1  3701\n",
      "4            1/2  2718\n",
      "5            2/2  2123\n",
      "6            0/2  1702\n",
      "7            2/3  1579\n",
      "8            1/3  1342\n",
      "9            3/3  1104\n",
      "10           2/4   921\n",
      "..           ...   ...\n",
      "\n"
     ]
    }
   ],
   "source": [
    "from rpy2.robjects.lib import dplyr\n",
    "\n",
    "datasrc  = dplyr.src_sqlite(dbfilename)\n",
    "review_tbl = datasrc.get_table(\"review\")\n",
    "\n",
    "res =  (review_tbl\n",
    "        .filter('reviewscore < 2')\n",
    "        .count('reviewhelpful')\n",
    "        .arrange('desc(n)'))\n",
    "\n",
    "print(res)"
   ]
  },
  {
   "cell_type": "code",
   "execution_count": 10,
   "metadata": {
    "collapsed": false
   },
   "outputs": [
    {
     "name": "stdout",
     "output_type": "stream",
     "text": [
      "<SQL> <S4 object of class \"SQLiteConnection\">\n",
      "<SQL> /opt/data/finefoods.db\n",
      "<SQL> 3.8.6\n",
      "<SQL> FALSE\n",
      "<SQL> (SELECT \"reviewhelpful\", COUNT() AS \"n\"\n",
      "FROM \"review\"\n",
      "WHERE \"reviewscore\" < 2.0\n",
      "GROUP BY \"reviewhelpful\") AS \"zzz1\"\n",
      "<SQL> reviewhelpful\n",
      "<SQL> n\n",
      "<SQL> FALSE\n",
      "<SQL> FALSE\n",
      "<SQL> desc(n)\n",
      "<SQL> <environment>\n",
      "\n"
     ]
    }
   ],
   "source": [
    "print(dplyr.dplyr.translate_sql(res))"
   ]
  },
  {
   "cell_type": "markdown",
   "metadata": {},
   "source": [
    "## While with R..."
   ]
  },
  {
   "cell_type": "code",
   "execution_count": 11,
   "metadata": {
    "collapsed": false
   },
   "outputs": [],
   "source": [
    "from rpy2.robjects import r, globalenv\n",
    "import rpy2.robjects.lib.ggplot2 as gg\n",
    "p = (gg.ggplot((res.collect().\n",
    "                mutate(r1 = 'as.integer(sapply(strsplit(reviewhelpful, \"/\"), \"[\", 1))',\n",
    "                       r2 = 'as.integer(sapply(strsplit(reviewhelpful, \"/\"), \"[\", 2))'))) +\n",
    "     gg.aes_string(x='r1+1', y='r2+1', size='n') +\n",
    "     gg.geom_point(alpha = 0.5) +\n",
    "     gg.scale_x_log10(\"review voted helpful\") +\n",
    "     gg.scale_y_log10(\"review\") +\n",
    "     gg.scale_size(trans=\"sqrt\"))"
   ]
  },
  {
   "cell_type": "code",
   "execution_count": 12,
   "metadata": {
    "collapsed": false
   },
   "outputs": [
    {
     "data": {
      "image/png": "[encoded data removed]",
      "text/plain": [
       "<IPython.core.display.Image object>"
      ]
     },
     "metadata": {},
     "output_type": "display_data"
    }
   ],
   "source": [
    "from rpy2.robjects.lib import grdevices\n",
    "\n",
    "with grdevices.render_to_bytesio(grdevices.png, \n",
    "                                 width=800,\n",
    "                                 height=600, \n",
    "                                 res=120) as b:\n",
    "    p.plot()\n",
    "\n",
    "from IPython.display import Image, display\n",
    "data = b.getvalue()\n",
    "display(Image(data=data, format='png', embed=True))"
   ]
  },
  {
   "cell_type": "markdown",
   "metadata": {},
   "source": [
    "## Spark"
   ]
  },
  {
   "cell_type": "code",
   "execution_count": 13,
   "metadata": {
    "collapsed": false
   },
   "outputs": [],
   "source": [
    "import findspark\n",
    "findspark.init()\n",
    "\n",
    "import pyspark\n",
    "\n",
    "conf = pyspark.conf.SparkConf()\n",
    "(conf.setMaster('local[2]')\n",
    " .setAppName('ipython-notebook')\n",
    " .set(\"spark.executor.memory\", \"2g\"))\n",
    "\n",
    "sc = pyspark.SparkContext(conf=conf)"
   ]
  },
  {
   "cell_type": "code",
   "execution_count": 14,
   "metadata": {
    "collapsed": false
   },
   "outputs": [],
   "source": [
    "from pyspark.sql import SQLContext, Row\n",
    "sqlcontext = SQLContext(sc)\n",
    "cursor.execute('select * from review limit 10000')\n",
    "review = sqlcontext.createDataFrame(cursor, tuple(x[0] for x in cursor.description))\n",
    "review.registerTempTable(\"review\")"
   ]
  },
  {
   "cell_type": "code",
   "execution_count": 15,
   "metadata": {
    "collapsed": false
   },
   "outputs": [],
   "source": [
    "sql = \"\"\"\n",
    "SELECT reviewhelpful, count(*) AS ct\n",
    "FROM review\n",
    "WHERE reviewscore < 2\n",
    "GROUP BY reviewhelpful\n",
    "ORDER BY ct DESC\n",
    "\"\"\"\n",
    "counts = sqlcontext.sql(sql)"
   ]
  },
  {
   "cell_type": "code",
   "execution_count": 16,
   "metadata": {
    "collapsed": false
   },
   "outputs": [],
   "source": [
    "res = counts.collect()"
   ]
  },
  {
   "cell_type": "code",
   "execution_count": 17,
   "metadata": {
    "collapsed": false
   },
   "outputs": [
    {
     "data": {
      "text/plain": [
       "[Row(reviewhelpful='0/0', ct=241),\n",
       " Row(reviewhelpful='1/1', ct=87),\n",
       " Row(reviewhelpful='0/1', ct=80),\n",
       " Row(reviewhelpful='1/2', ct=72),\n",
       " Row(reviewhelpful='2/2', ct=39)]"
      ]
     },
     "execution_count": 17,
     "metadata": {},
     "output_type": "execute_result"
    }
   ],
   "source": [
    "res[:5]"
   ]
  },
  {
   "cell_type": "code",
   "execution_count": null,
   "metadata": {
    "collapsed": true
   },
   "outputs": [],
   "source": []
  }
 ],
 "metadata": {
  "kernelspec": {
   "display_name": "Python 3",
   "language": "python",
   "name": "python3"
  },
  "language_info": {
   "codemirror_mode": {
    "name": "ipython",
    "version": 3
   },
   "file_extension": ".py",
   "mimetype": "text/x-python",
   "name": "python",
   "nbconvert_exporter": "python",
   "pygments_lexer": "ipython3",
   "version": "3.5.1+"
  }
 },
 "nbformat": 4,
 "nbformat_minor": 0
}
