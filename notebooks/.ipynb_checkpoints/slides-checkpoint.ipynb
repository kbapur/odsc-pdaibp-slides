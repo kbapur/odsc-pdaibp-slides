{
 "cells": [
  {
   "cell_type": "markdown",
   "metadata": {},
   "source": [
    "# POLYGLOT DATA ANALYSIS VISUALLY DEMONSTRATED WITH PYTHON AND R\n",
    "## ODSC Boston - 2016\n",
    "### (Laurent Gautier)\n",
    "\n",
    "---\n",
    "\n",
    "## SQL\n",
    "\n",
    "### Connect to a database\n",
    "\n",
    "SQLite"
   ]
  },
  {
   "cell_type": "code",
   "execution_count": 1,
   "metadata": {
    "collapsed": true
   },
   "outputs": [],
   "source": [
    "\n",
    "import sqlite3\n",
    "dbfile = \"finefoods.db\"\n",
    "dbcon = sqlite3.connect(dbfile)"
   ]
  },
  {
   "cell_type": "markdown",
   "metadata": {},
   "source": [
    "---\n",
    "\n",
    "### Example: Reviews with low score\n",
    "\n",
    "We do write SQL. This is already polyglot data analysis."
   ]
  },
  {
   "cell_type": "code",
   "execution_count": 2,
   "metadata": {
    "collapsed": true
   },
   "outputs": [],
   "source": [
    "cursor = dbcon.cursor()\n",
    "sql = \"\"\"\n",
    "select *\n",
    "from review\n",
    "where reviewscore < 2\n",
    "\"\"\"\n",
    "cursor.execute(sql)\n",
    "\n",
    "for row in cursor:\n",
    "    # do something\n",
    "    pass"
   ]
  },
  {
   "cell_type": "markdown",
   "metadata": {},
   "source": [
    "---\n",
    "\n",
    "In fact we want more.\n",
    "\n",
    "<quote>\n",
    "Distribution of helpfulness rating of reviews giving low score.\n",
    "</quote>"
   ]
  },
  {
   "cell_type": "code",
   "execution_count": 3,
   "metadata": {
    "collapsed": false
   },
   "outputs": [
    {
     "data": {
      "text/plain": [
       "<sqlite3.Cursor at 0x7f20184921f0>"
      ]
     },
     "execution_count": 3,
     "metadata": {},
     "output_type": "execute_result"
    }
   ],
   "source": [
    "sql = \"\"\"\n",
    "select reviewhelpful, count(*)\n",
    "from review\n",
    "where reviewscore < 2\n",
    "group by reviewhelpful\n",
    "\"\"\"\n",
    "cursor.execute(sql)"
   ]
  },
  {
   "cell_type": "markdown",
   "metadata": {},
   "source": [
    "- The more complex the query the better foreign language skills are needed.\n",
    "\n",
    "- DBM-dependent code\n",
    "\n",
    "---\n",
    "\n",
    "## ORMs\n",
    "\n",
    "The promise was to operate in the native language, without writting SQL."
   ]
  },
  {
   "cell_type": "code",
   "execution_count": 4,
   "metadata": {
    "collapsed": true
   },
   "outputs": [],
   "source": [
    "from sqlalchemy.ext.automap import automap_base\n",
    "from sqlalchemy.orm import Session\n",
    "from sqlalchemy import create_engine\n",
    "\n",
    "Base = automap_base()\n",
    "\n",
    "# engine, suppose it has two tables 'user' and 'address' set up\n",
    "engine = create_engine(\"sqlite:///finefoods.db\")"
   ]
  },
  {
   "cell_type": "markdown",
   "metadata": {},
   "source": [
    "---\n",
    "\n",
    "We are not ready yet"
   ]
  },
  {
   "cell_type": "code",
   "execution_count": 5,
   "metadata": {
    "collapsed": true
   },
   "outputs": [],
   "source": [
    "# reflect the tables\n",
    "# (!! tables must have a primary key)\n",
    "Base.prepare(engine, reflect=True)\n",
    "review = Base.classes.review"
   ]
  },
  {
   "cell_type": "code",
   "execution_count": 6,
   "metadata": {
    "collapsed": true
   },
   "outputs": [],
   "source": [
    "session = Session(engine)\n",
    "query_obj = (session\n",
    "             .query(review)\n",
    "             .filter(review.reviewscore < 2)\n",
    "             .group_by('reviewhelpful'))"
   ]
  },
  {
   "cell_type": "markdown",
   "metadata": {},
   "source": [
    "XXX retrieve SQL\n",
    "\n",
    "Function composition as a code generator\n",
    "\n",
    "cross-RDBMs\n",
    "\n",
    "---\n",
    "\n",
    "Limits can be reached quickly\n",
    "XXX joke about finding incantations on SO\n",
    "XXX audience participation to ask how to do it"
   ]
  },
  {
   "cell_type": "code",
   "execution_count": 7,
   "metadata": {
    "collapsed": true
   },
   "outputs": [],
   "source": [
    "query_obj = (session\n",
    "             .query(review)\n",
    "             .filter(review.reviewscore < 2)\n",
    "             .group_by('reviewhelpful'))"
   ]
  },
  {
   "cell_type": "markdown",
   "metadata": {},
   "source": [
    "?\n",
    "\n",
    "---\n",
    "\n",
    "Yeah, right."
   ]
  },
  {
   "cell_type": "code",
   "execution_count": 8,
   "metadata": {
    "collapsed": true
   },
   "outputs": [],
   "source": [
    "\n",
    "from sqlalchemy import func # SQL functions\n",
    "query = (session\n",
    "         .query(review.reviewhelpful,\n",
    "\t        func.count(review.reviewhelpful))\n",
    "         .group_by(review.reviewhelpful))\n",
    "\n",
    "res = query.all()"
   ]
  },
  {
   "cell_type": "markdown",
   "metadata": {},
   "source": [
    "How were we doing before StackOverflow ?\n",
    "\n",
    "---\n",
    "\n",
    "ORM often have their own idiosyncrasies (XXXspelling)\n",
    "\n",
    "Can turn into a \"learning debt\" XXX\n",
    "(I am calling it this way by analogy with \"technical debt\")\n",
    "\n",
    "\n",
    "If there are Java programmer being sarky in back:\n",
    "XXXHibernate_SO picuture\n",
    "\n",
    "---\n",
    "\n",
    "- ORM are trying to model all of SQL onto objects in the native language.\n",
    "\n",
    "- cross RDBMs not always important (honestly how many RDBMs are people using ?)\n",
    "\n",
    "- Most data analysis need != Data administrator needs \n",
    "\n",
    "---\n",
    "\n",
    "R\n",
    "\n",
    "Quote on R about a language\n",
    "\n",
    "Byzantine, but a lot grounded in pragmatic need of statisticians and data analysts\n",
    "---\n",
    "\n",
    "dplyr"
   ]
  },
  {
   "cell_type": "code",
   "execution_count": 9,
   "metadata": {
    "collapsed": false
   },
   "outputs": [
    {
     "name": "stderr",
     "output_type": "stream",
     "text": [
      "ERROR: Cell magic `%%R` not found.\n"
     ]
    }
   ],
   "source": [
    "%%R\n",
    "dbfile <- \"finefoods.db\"\n",
    "datasrc <- src_sqlite(dbfile)\n",
    "review_tbl <- tbl(datasrc, \"review\")"
   ]
  },
  {
   "cell_type": "code",
   "execution_count": 10,
   "metadata": {
    "collapsed": false
   },
   "outputs": [
    {
     "name": "stderr",
     "output_type": "stream",
     "text": [
      "ERROR: Cell magic `%%R` not found.\n"
     ]
    }
   ],
   "source": [
    "%%R\n",
    "res <- filter(review_tbl,\n",
    "              reviewscore < 2) %>%\n",
    "       group_by(reviewhelpful) %>%\n",
    "       tally()"
   ]
  },
  {
   "cell_type": "markdown",
   "metadata": {},
   "source": [
    "---\n",
    "\n",
    "Yes, but we had started with Python\n",
    "\n",
    "---\n",
    "\n",
    "bridge to an embedded language (here R)\n",
    "\n",
    "rpy2"
   ]
  },
  {
   "cell_type": "code",
   "execution_count": 11,
   "metadata": {
    "collapsed": false
   },
   "outputs": [
    {
     "name": "stderr",
     "output_type": "stream",
     "text": [
      "/home/laurent/Desktop/software/talks/odsc_east_2016/py35_env/lib/python3.5/site-packages/rpy2-2.8.0.dev0-py3.5-linux-x86_64.egg/rpy2/ipython/rmagic.py:76: UserWarning: The Python package 'pandas' is strongly recommended when using `rpy2.ipython`. Unfortunately it could not be loaded, and we did not manage to load 'numpy' either.\n",
      "  \"either.\")))\n"
     ]
    }
   ],
   "source": [
    "%load_ext rpy2.ipython"
   ]
  },
  {
   "cell_type": "markdown",
   "metadata": {},
   "source": [
    "---"
   ]
  },
  {
   "cell_type": "code",
   "execution_count": 12,
   "metadata": {
    "collapsed": false
   },
   "outputs": [
    {
     "name": "stdout",
     "output_type": "stream",
     "text": [
      "\n",
      "Error in withVisible({ : could not find function \"src_sqlite\"\n"
     ]
    },
    {
     "name": "stderr",
     "output_type": "stream",
     "text": [
      "/home/laurent/Desktop/software/talks/odsc_east_2016/py35_env/lib/python3.5/site-packages/rpy2-2.8.0.dev0-py3.5-linux-x86_64.egg/rpy2/rinterface/__init__.py:185: RRuntimeWarning: Error in withVisible({ : could not find function \"src_sqlite\"\n",
      "\n",
      "  warnings.warn(x, RRuntimeWarning)\n"
     ]
    }
   ],
   "source": [
    "%%R\n",
    "dbfile <- \"finefoods.db\"\n",
    "datasrc <- src_sqlite(dbfile)\n",
    "review_tbl <- tbl(datasrc, \"review\")\n",
    "\n",
    "res <- filter(review_tbl,\n",
    "              reviewscore < 2) %>%\n",
    "       group_by(reviewhelpful) %>%\n",
    "       tally()"
   ]
  },
  {
   "cell_type": "markdown",
   "metadata": {},
   "source": [
    "---"
   ]
  },
  {
   "cell_type": "code",
   "execution_count": 13,
   "metadata": {
    "collapsed": false
   },
   "outputs": [
    {
     "name": "stderr",
     "output_type": "stream",
     "text": [
      "/home/laurent/Desktop/software/talks/odsc_east_2016/py35_env/lib/python3.5/site-packages/rpy2-2.8.0.dev0-py3.5-linux-x86_64.egg/rpy2/rinterface/__init__.py:185: RRuntimeWarning: Loading required package: dplyr\n",
      "\n",
      "  warnings.warn(x, RRuntimeWarning)\n",
      "/home/laurent/Desktop/software/talks/odsc_east_2016/py35_env/lib/python3.5/site-packages/rpy2-2.8.0.dev0-py3.5-linux-x86_64.egg/rpy2/rinterface/__init__.py:185: RRuntimeWarning: \n",
      "Attaching package: ‘dplyr’\n",
      "\n",
      "\n",
      "  warnings.warn(x, RRuntimeWarning)\n",
      "/home/laurent/Desktop/software/talks/odsc_east_2016/py35_env/lib/python3.5/site-packages/rpy2-2.8.0.dev0-py3.5-linux-x86_64.egg/rpy2/rinterface/__init__.py:185: RRuntimeWarning: The following objects are masked from ‘package:stats’:\n",
      "\n",
      "    filter, lag\n",
      "\n",
      "\n",
      "  warnings.warn(x, RRuntimeWarning)\n",
      "/home/laurent/Desktop/software/talks/odsc_east_2016/py35_env/lib/python3.5/site-packages/rpy2-2.8.0.dev0-py3.5-linux-x86_64.egg/rpy2/rinterface/__init__.py:185: RRuntimeWarning: The following objects are masked from ‘package:base’:\n",
      "\n",
      "    intersect, setdiff, setequal, union\n",
      "\n",
      "\n",
      "  warnings.warn(x, RRuntimeWarning)\n"
     ]
    },
    {
     "data": {
      "text/plain": [
       "<ListVector - Python:0x7f201a77d5c8 / R:0x3ea4e28>\n",
       "[ListV..., StrVe..., ListV..., ..., RNULL..., RNULL..., Envir...]\n",
       "<ListVector - Python:0x7f201a77d5c8 / R:0x3ea4e28>\n",
       "[ListV..., StrVe..., ListV..., ..., RNULL..., RNULL..., Envir...]\n",
       "  from: <class 'rpy2.robjects.vectors.StrVector'>\n",
       "  <StrVector - Python:0x7f2010028f88 / R:0x3837bc8>\n",
       "['(SELECT \"reviewhelpful\", COUNT() AS \"n\"\\nFROM \"r...]\n",
       "<ListVector - Python:0x7f201a77d5c8 / R:0x3ea4e28>\n",
       "[ListV..., StrVe..., ListV..., ..., RNULL..., RNULL..., Envir...]\n",
       "  ...\n",
       "  src: <class 'rpy2.rinterface.RNULLType'>\n",
       "  rpy2.rinterface.NULL\n",
       "  from: <class 'rpy2.rinterface.RNULLType'>\n",
       "  rpy2.rinterface.NULL\n",
       "  select: <class 'rpy2.robjects.environments.Environment'>\n",
       "  <Environment - Python:0x7f2010028f48 / R:0x467a5a8>"
      ]
     },
     "execution_count": 13,
     "metadata": {},
     "output_type": "execute_result"
    }
   ],
   "source": [
    "from rpy2.robjects import r\n",
    "\n",
    "r_code = \"\"\"\n",
    "require(\"dplyr\")\n",
    "dbfile <- \"finefoods.db\"\n",
    "datasrc <- src_sqlite(dbfile)\n",
    "review_tbl <- tbl(datasrc, \"review\")\n",
    "\n",
    "res <- filter(review_tbl,\n",
    "              reviewscore < 2) %>%\n",
    "       group_by(reviewhelpful) %>%\n",
    "       tally()\n",
    "\"\"\"\n",
    "\n",
    "r(r_code)"
   ]
  },
  {
   "cell_type": "markdown",
   "metadata": {},
   "source": [
    "You must \n",
    "---\n",
    "\n",
    "parenthesis on tables (pandas ?)\n",
    "\n",
    "---\n",
    "\n",
    "spark"
   ]
  }
 ],
 "metadata": {
  "kernelspec": {
   "display_name": "Python 3",
   "language": "python",
   "name": "python3"
  },
  "language_info": {
   "codemirror_mode": {
    "name": "ipython",
    "version": 3
   },
   "file_extension": ".py",
   "mimetype": "text/x-python",
   "name": "python",
   "nbconvert_exporter": "python",
   "pygments_lexer": "ipython3",
   "version": "3.5.1+"
  }
 },
 "nbformat": 4,
 "nbformat_minor": 0
}
